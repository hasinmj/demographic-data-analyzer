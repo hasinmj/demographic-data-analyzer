{
  "nbformat": 4,
  "nbformat_minor": 0,
  "metadata": {
    "colab": {
      "provenance": []
    },
    "kernelspec": {
      "name": "python3",
      "display_name": "Python 3"
    },
    "language_info": {
      "name": "python"
    }
  },
  "cells": [
    {
      "cell_type": "code",
      "execution_count": 1,
      "metadata": {
        "id": "Fl81Q-HWpQ7I"
      },
      "outputs": [],
      "source": [
        "import pandas as pd"
      ]
    },
    {
      "cell_type": "code",
      "source": [
        "from google.colab import drive\n",
        "drive.mount('/content/drive')"
      ],
      "metadata": {
        "colab": {
          "base_uri": "https://localhost:8080/"
        },
        "id": "YTdnZL4BpnTf",
        "outputId": "aa1913c4-f2c4-4338-e4ff-e05d3da992a6"
      },
      "execution_count": 2,
      "outputs": [
        {
          "output_type": "stream",
          "name": "stdout",
          "text": [
            "Mounted at /content/drive\n"
          ]
        }
      ]
    },
    {
      "cell_type": "code",
      "source": [
        "df = pd.read_csv('/content/drive/MyDrive/Colab Notebooks/adult.data.csv')"
      ],
      "metadata": {
        "id": "m1ozuuiDrRAX"
      },
      "execution_count": 4,
      "outputs": []
    },
    {
      "cell_type": "code",
      "source": [
        "print(df.shape)\n",
        "print(df.head(5))"
      ],
      "metadata": {
        "colab": {
          "base_uri": "https://localhost:8080/"
        },
        "id": "c2FbY0uHr2-y",
        "outputId": "a4a3d52f-a726-4819-8c10-1d88e2fe999f"
      },
      "execution_count": 12,
      "outputs": [
        {
          "output_type": "stream",
          "name": "stdout",
          "text": [
            "(32561, 15)\n",
            "   age         workclass  fnlwgt  education  education-num  \\\n",
            "0   39         State-gov   77516  Bachelors             13   \n",
            "1   50  Self-emp-not-inc   83311  Bachelors             13   \n",
            "2   38           Private  215646    HS-grad              9   \n",
            "3   53           Private  234721       11th              7   \n",
            "4   28           Private  338409  Bachelors             13   \n",
            "\n",
            "       marital-status         occupation   relationship   race     sex  \\\n",
            "0       Never-married       Adm-clerical  Not-in-family  White    Male   \n",
            "1  Married-civ-spouse    Exec-managerial        Husband  White    Male   \n",
            "2            Divorced  Handlers-cleaners  Not-in-family  White    Male   \n",
            "3  Married-civ-spouse  Handlers-cleaners        Husband  Black    Male   \n",
            "4  Married-civ-spouse     Prof-specialty           Wife  Black  Female   \n",
            "\n",
            "   capital-gain  capital-loss  hours-per-week native-country salary  \n",
            "0          2174             0              40  United-States  <=50K  \n",
            "1             0             0              13  United-States  <=50K  \n",
            "2             0             0              40  United-States  <=50K  \n",
            "3             0             0              40  United-States  <=50K  \n",
            "4             0             0              40           Cuba  <=50K  \n"
          ]
        }
      ]
    },
    {
      "cell_type": "code",
      "source": [
        "# How many people of each race are represented in this dataset?\n",
        "df_racecount = df['race'].value_counts()\n",
        "print(df_racecount)"
      ],
      "metadata": {
        "colab": {
          "base_uri": "https://localhost:8080/"
        },
        "id": "VN_jxvMKr_kc",
        "outputId": "e4e8521b-36a2-4d49-f0f8-cf0f93f6b06f"
      },
      "execution_count": 6,
      "outputs": [
        {
          "output_type": "stream",
          "name": "stdout",
          "text": [
            "White                 27816\n",
            "Black                  3124\n",
            "Asian-Pac-Islander     1039\n",
            "Amer-Indian-Eskimo      311\n",
            "Other                   271\n",
            "Name: race, dtype: int64\n"
          ]
        }
      ]
    },
    {
      "cell_type": "code",
      "source": [
        "# What is the average age of men?\n",
        "average_men_age = df.loc[df['sex'] == 'Male', 'age'].mean()\n",
        "print(\"%.2f\" % average_men_age)"
      ],
      "metadata": {
        "colab": {
          "base_uri": "https://localhost:8080/"
        },
        "id": "3acxi4MbsfaB",
        "outputId": "c418ee80-cb91-46a4-f145-f18db67b44da"
      },
      "execution_count": 8,
      "outputs": [
        {
          "output_type": "stream",
          "name": "stdout",
          "text": [
            "39.43\n"
          ]
        }
      ]
    },
    {
      "cell_type": "code",
      "source": [
        "# What is the percentage of people who have a Bachelor's degree?\n",
        "bachelor_count = df['education'].value_counts()['Bachelors']\n",
        "#print(bachelor_count)\n",
        "total_rows = len(df.index)\n",
        "#print(total_rows)\n",
        "bachelor_percentage = f\"{bachelor_count / total_rows :.2%}\"\n",
        "print(bachelor_percentage)"
      ],
      "metadata": {
        "colab": {
          "base_uri": "https://localhost:8080/"
        },
        "id": "wAMKfKCiv2M3",
        "outputId": "10b9bce9-f961-4046-fe46-1f9b72cb4a86"
      },
      "execution_count": 15,
      "outputs": [
        {
          "output_type": "stream",
          "name": "stdout",
          "text": [
            "16.45%\n"
          ]
        }
      ]
    },
    {
      "cell_type": "code",
      "source": [
        "# What percentage of people with advanced education (Bachelors, Masters, or Doctorate) make more than 50K?\n",
        "advanced_morethan_fifty = len(df[(df['education'] == 'Bachelors') | \n",
        "                          (df['education'] == 'Masters') | \n",
        "                          (df['education'] == 'Doctorate') & \n",
        "                          (df['salary'] == '>50K')])\n",
        "print(advanced_morethan_fifty)\n",
        "advanced_count = len(df[(df['education'] == 'Bachelors') | \n",
        "                          (df['education'] == 'Masters') | \n",
        "                          (df['education'] == 'Doctorate')])\n",
        "#print(advanced_count)\n",
        "#print(f\"{advanced_morethan_fifty / advanced_count :.2%}\")"
      ],
      "metadata": {
        "colab": {
          "base_uri": "https://localhost:8080/"
        },
        "id": "9BKxqB771sIU",
        "outputId": "0714b0d0-a52c-4a85-bc87-5837fab2c9b8"
      },
      "execution_count": 45,
      "outputs": [
        {
          "output_type": "stream",
          "name": "stdout",
          "text": [
            "7384\n"
          ]
        }
      ]
    },
    {
      "cell_type": "code",
      "source": [
        "# What percentage of people without advanced education make more than 50K?\n",
        "without_advanced = total_rows - advanced_count\n",
        "#print(without_advanced)\n",
        "without_advanced_morethan_fifty = len(df[(df['education'] != 'Bachelors') & \n",
        "                                  (df['education'] != 'Masters') &\n",
        "                                  (df['education'] != 'Doctorate') & \n",
        "                                  (df['salary'] == '>50K')])\n",
        "#print(without_advanced_morethan_fifty)\n",
        "print(f\"{without_advanced_morethan_fifty / without_advanced :.2%}\")"
      ],
      "metadata": {
        "colab": {
          "base_uri": "https://localhost:8080/"
        },
        "id": "r3FiQzAv87_I",
        "outputId": "fb711c79-6b3c-40ca-eefc-34ad17980ff2"
      },
      "execution_count": 31,
      "outputs": [
        {
          "output_type": "stream",
          "name": "stdout",
          "text": [
            "17.37%\n"
          ]
        }
      ]
    },
    {
      "cell_type": "code",
      "source": [
        "# What is the minimum number of hours a person works per week?\n",
        "min_hours = df['hours-per-week'].min()\n",
        "print(min_hours)"
      ],
      "metadata": {
        "colab": {
          "base_uri": "https://localhost:8080/"
        },
        "id": "C6V9lJHc-lC9",
        "outputId": "512559f8-7352-4e59-d242-4498427b4674"
      },
      "execution_count": 35,
      "outputs": [
        {
          "output_type": "stream",
          "name": "stdout",
          "text": [
            "1\n"
          ]
        }
      ]
    },
    {
      "cell_type": "code",
      "source": [
        "# What percentage of the people who work the minimum number of hours per week have a salary of more than 50K?\n",
        "works_min_hours = len(df[df['hours-per-week'] == min_hours])\n",
        "#print(works_min_hours)\n",
        "min_hours_morethan_fifty = len(df[(df['hours-per-week'] == min_hours) & (df['salary'] == '>50K')])\n",
        "print(f\"{min_hours_morethan_fifty / works_min_hours :.2%}\")"
      ],
      "metadata": {
        "colab": {
          "base_uri": "https://localhost:8080/"
        },
        "id": "1vDTLb5zAknn",
        "outputId": "d3e2fe2f-6a86-49cd-ed22-80c13ad016ea"
      },
      "execution_count": 50,
      "outputs": [
        {
          "output_type": "stream",
          "name": "stdout",
          "text": [
            "10.00%\n"
          ]
        }
      ]
    }
  ]
}